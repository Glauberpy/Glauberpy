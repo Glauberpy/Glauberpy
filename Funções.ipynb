{
  "nbformat": 4,
  "nbformat_minor": 0,
  "metadata": {
    "colab": {
      "provenance": [],
      "authorship_tag": "ABX9TyNdbVQPrk5cgalHvpISm6iI",
      "include_colab_link": true
    },
    "kernelspec": {
      "name": "python3",
      "display_name": "Python 3"
    },
    "language_info": {
      "name": "python"
    }
  },
  "cells": [
    {
      "cell_type": "markdown",
      "metadata": {
        "id": "view-in-github",
        "colab_type": "text"
      },
      "source": [
        "<a href=\"https://colab.research.google.com/github/Glauberpy/Glauberpy/blob/main/Fun%C3%A7%C3%B5es.ipynb\" target=\"_parent\"><img src=\"https://colab.research.google.com/assets/colab-badge.svg\" alt=\"Open In Colab\"/></a>"
      ]
    },
    {
      "cell_type": "markdown",
      "source": [
        "#**Criando uma função com parâmetros digitado pelo usuário:**\n"
      ],
      "metadata": {
        "id": "Wlf7AvzFyRV1"
      }
    },
    {
      "cell_type": "code",
      "source": [
        "num= int(input('Digite um numero!\\n'))     # Usuário vai digitar um numero\n",
        "num1= int(input('Digite outro numero!\\n'))   # Usuário vai digitar um segundo numero\n",
        "\n",
        "def multiplicar(num,num1):     # Crio uma função\n",
        "  resultado = num*num1         # Crio outra variável para armazenar o resultado\n",
        "  return resultado             # Preciso ter o return da função\n",
        "\n",
        "print(f'A resposta é: {multiplicar(num,num1)}, correto?')   # Formato conforme o que eu desejo\n",
        "\n",
        "\n",
        "\n",
        "\n",
        "\n",
        "\n",
        ""
      ],
      "metadata": {
        "colab": {
          "base_uri": "https://localhost:8080/"
        },
        "id": "BSGnr0SRySid",
        "outputId": "53739f22-77cf-4642-9452-2b384aa0abda"
      },
      "execution_count": 88,
      "outputs": [
        {
          "output_type": "stream",
          "name": "stdout",
          "text": [
            "Digite um numero!\n",
            "3\n",
            "Digite outro numero!\n",
            "2\n",
            "A resposta é: 6, correto?\n"
          ]
        }
      ]
    },
    {
      "cell_type": "code",
      "source": [],
      "metadata": {
        "id": "f696S8aZ1FQG"
      },
      "execution_count": null,
      "outputs": []
    }
  ]
}